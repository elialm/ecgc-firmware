{
 "cells": [
  {
   "cell_type": "code",
   "execution_count": 16,
   "metadata": {},
   "outputs": [
    {
     "name": "stderr",
     "output_type": "stream",
     "text": [
      "C:\\Users\\Eliat\\AppData\\Local\\Temp\\ipykernel_25064\\656669653.py:21: RuntimeWarning: divide by zero encountered in floor_divide\n",
      "  return x // v\n",
      "C:\\Users\\Eliat\\AppData\\Local\\Temp\\ipykernel_25064\\656669653.py:21: RuntimeWarning: invalid value encountered in floor_divide\n",
      "  return x // v\n"
     ]
    }
   ],
   "source": [
    "%matplotlib tk\n",
    "\n",
    "import matplotlib.pyplot as plt\n",
    "import matplotlib.animation\n",
    "import numpy as np\n",
    "from itertools import chain\n",
    "\n",
    "# Number of samplepoints\n",
    "N = 53200\n",
    "# sample spacing\n",
    "T = 1.0 / 53200000\n",
    "\n",
    "t = np.linspace(0.0, N * T, N)\n",
    "fa = ((np.sin(2.0 * np.pi * t * 2000.0) * 127.5) - 0.5) // 1\n",
    "\n",
    "fig = plt.figure()\n",
    "ax = plt.axes(xlim=(0, 0.001), ylim=(-133, 132))\n",
    "line, = ax.plot([])\n",
    "\n",
    "def apply_volume_control(x, v):\n",
    "    return x // v\n",
    "\n",
    "def d(x, v):\n",
    "    diff = 256 - x\n",
    "    return v - diff if diff <= v else 0\n",
    "\n",
    "def animate(v):\n",
    "    f = np.copy(fa)\n",
    "    for x in np.nditer(f, op_flags=['readwrite']):\n",
    "        x[...] = apply_volume_control(x, v)\n",
    "\n",
    "    line.set_data(t, f)\n",
    "    return line\n",
    "\n",
    "ani = matplotlib.animation.FuncAnimation(fig, animate, frames=chain(range(1, 128, 1), range(127, 0, -1)), interval=1)\n",
    "\n",
    "plt.show()"
   ]
  }
 ],
 "metadata": {
  "kernelspec": {
   "display_name": "Python 3",
   "language": "python",
   "name": "python3"
  },
  "language_info": {
   "codemirror_mode": {
    "name": "ipython",
    "version": 3
   },
   "file_extension": ".py",
   "mimetype": "text/x-python",
   "name": "python",
   "nbconvert_exporter": "python",
   "pygments_lexer": "ipython3",
   "version": "3.10.11"
  },
  "orig_nbformat": 4
 },
 "nbformat": 4,
 "nbformat_minor": 2
}
