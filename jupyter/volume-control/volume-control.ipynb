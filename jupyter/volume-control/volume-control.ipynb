{
 "cells": [
  {
   "cell_type": "code",
   "execution_count": 9,
   "metadata": {},
   "outputs": [],
   "source": [
    "%matplotlib tk\n",
    "\n",
    "import matplotlib.pyplot as plt\n",
    "import matplotlib.animation\n",
    "import numpy as np\n",
    "\n",
    "# Number of samplepoints\n",
    "N = 53200\n",
    "# sample spacing\n",
    "T = 1.0 / 53200000\n",
    "\n",
    "t = np.linspace(0.0, N * T, N)\n",
    "fa = ((np.sin(2.0 * np.pi * t * 2000.0) + 1) * 128) // 1\n",
    "\n",
    "fig = plt.figure()\n",
    "ax = plt.axes(xlim=(0, 0.001), ylim=(-5, 261))\n",
    "line, = ax.plot([])\n",
    "\n",
    "def apply_volume_control(x, v):\n",
    "    return handle_top(x, v, 64) if x > 127 else handle_bottom(x, v, 64)\n",
    "\n",
    "def handle_top(x, v, offset):\n",
    "    return x - v if x >= (128 + offset) else handle_top(x, v // 2, offset // 2)\n",
    "\n",
    "def handle_bottom(x, v, offset):\n",
    "    return x + v if x < (128 - offset) else handle_bottom(x, v // 2, offset // 2)\n",
    "\n",
    "def animate(v):\n",
    "    f = np.copy(fa)\n",
    "    for x in np.nditer(f, op_flags=['readwrite']):\n",
    "        x[...] = apply_volume_control(x, v)\n",
    "\n",
    "    line.set_data(t, f)\n",
    "    return line\n",
    "\n",
    "ani = matplotlib.animation.FuncAnimation(fig, animate, frames=128, interval=1)\n",
    "\n",
    "plt.show()"
   ]
  }
 ],
 "metadata": {
  "kernelspec": {
   "display_name": "Python 3",
   "language": "python",
   "name": "python3"
  },
  "language_info": {
   "codemirror_mode": {
    "name": "ipython",
    "version": 3
   },
   "file_extension": ".py",
   "mimetype": "text/x-python",
   "name": "python",
   "nbconvert_exporter": "python",
   "pygments_lexer": "ipython3",
   "version": "3.10.11"
  },
  "orig_nbformat": 4
 },
 "nbformat": 4,
 "nbformat_minor": 2
}
