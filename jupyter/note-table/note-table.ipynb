{
 "cells": [
  {
   "cell_type": "code",
   "execution_count": 26,
   "metadata": {},
   "outputs": [
    {
     "name": "stdout",
     "output_type": "stream",
     "text": [
      "Successfully scraped 108 notes\n"
     ]
    }
   ],
   "source": [
    "# Scrape note data from random website\n",
    "\n",
    "import requests\n",
    "import re\n",
    "from bs4 import BeautifulSoup, PageElement\n",
    "\n",
    "WEBSITE_NAME = 'https://pages.mtu.edu/~suits/notefreqs.html'\n",
    "\n",
    "def convert_note_name(element: PageElement):\n",
    "    text = re.sub(r'\\s', '', element.text)\n",
    "    \n",
    "    # Attempt to match single note (eg. C4)\n",
    "    result = re.match(r'^[CDEFGAB][0-8]$', text)\n",
    "    if result:\n",
    "        return text\n",
    "    \n",
    "    # Attempt to match sharp note\n",
    "    result = re.match(r'^([CDEFGAB])#([0-8])', text)\n",
    "    if result:\n",
    "        return '{}{}_#'.format(result.group(1), result.group(2))\n",
    "    \n",
    "    raise ValueError('invalid note name')\n",
    "\n",
    "def convert_note_frequency(element: PageElement):\n",
    "    return float(element.text)\n",
    "\n",
    "def scrape_page(page: BeautifulSoup):\n",
    "    notes = []\n",
    "    for row in soup.select_one('center > center > table ').select('tr'):\n",
    "        children = list(filter(lambda c: c != '\\n', row.contents))\n",
    "        notes.append({\n",
    "            'name': convert_note_name(children[0]),\n",
    "            'frequency': convert_note_frequency(children[1])\n",
    "        })\n",
    "\n",
    "    return notes\n",
    "\n",
    "response = requests.get(WEBSITE_NAME)\n",
    "soup = BeautifulSoup(response.content.decode('utf-8'), 'html.parser')\n",
    "notes = scrape_page(soup)\n",
    "\n",
    "print('Successfully scraped {} notes from {}'.format(len(notes), WEBSITE_NAME))"
   ]
  },
  {
   "cell_type": "code",
   "execution_count": 27,
   "metadata": {},
   "outputs": [],
   "source": [
    "# Dump scraped data to .csv for backup\n",
    "\n",
    "OUT_FILENAME = 'notes.csv'\n",
    "\n",
    "with open(OUT_FILENAME, 'w') as outfile:\n",
    "    outfile.write('Name,Frequency\\n')\n",
    "    for note in notes:\n",
    "        outfile.write('{},{}\\n'.format(note['name'], note['frequency']))\n",
    "\n",
    "print('Successfully dumped {} notes to \\\"{}\\\"'.format(len(notes), OUT_FILENAME))"
   ]
  }
 ],
 "metadata": {
  "kernelspec": {
   "display_name": "Python 3",
   "language": "python",
   "name": "python3"
  },
  "language_info": {
   "codemirror_mode": {
    "name": "ipython",
    "version": 3
   },
   "file_extension": ".py",
   "mimetype": "text/x-python",
   "name": "python",
   "nbconvert_exporter": "python",
   "pygments_lexer": "ipython3",
   "version": "3.10.11"
  },
  "orig_nbformat": 4
 },
 "nbformat": 4,
 "nbformat_minor": 2
}
