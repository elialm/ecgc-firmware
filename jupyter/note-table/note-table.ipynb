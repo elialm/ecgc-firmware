{
 "cells": [
  {
   "cell_type": "code",
   "execution_count": 3,
   "metadata": {},
   "outputs": [
    {
     "name": "stdout",
     "output_type": "stream",
     "text": [
      "Successfully scraped 108 notes from https://pages.mtu.edu/~suits/notefreqs.html\n"
     ]
    }
   ],
   "source": [
    "# Scrape note data from random website\n",
    "\n",
    "import requests\n",
    "import re\n",
    "from bs4 import BeautifulSoup, PageElement\n",
    "\n",
    "WEBSITE_NAME = 'https://pages.mtu.edu/~suits/notefreqs.html'\n",
    "\n",
    "def convert_note_name(element: PageElement):\n",
    "    text = re.sub(r'\\s', '', element.text)\n",
    "    \n",
    "    # Attempt to match single note (eg. C4)\n",
    "    result = re.match(r'^[CDEFGAB][0-8]$', text)\n",
    "    if result:\n",
    "        return text\n",
    "    \n",
    "    # Attempt to match sharp note\n",
    "    result = re.match(r'^([CDEFGAB])#([0-8])', text)\n",
    "    if result:\n",
    "        return '{}{}_#'.format(result.group(1), result.group(2))\n",
    "    \n",
    "    raise ValueError('invalid note name')\n",
    "\n",
    "def convert_note_frequency(element: PageElement):\n",
    "    return float(element.text)\n",
    "\n",
    "def scrape_page(page: BeautifulSoup):\n",
    "    notes = []\n",
    "    for row in soup.select_one('center > center > table ').select('tr'):\n",
    "        children = list(filter(lambda c: c != '\\n', row.contents))\n",
    "        notes.append({\n",
    "            'name': convert_note_name(children[0]),\n",
    "            'frequency': convert_note_frequency(children[1])\n",
    "        })\n",
    "\n",
    "    return notes\n",
    "\n",
    "response = requests.get(WEBSITE_NAME)\n",
    "soup = BeautifulSoup(response.content.decode('utf-8'), 'html.parser')\n",
    "notes = scrape_page(soup)\n",
    "\n",
    "print('Successfully scraped {} notes from {}'.format(len(notes), WEBSITE_NAME))"
   ]
  },
  {
   "cell_type": "code",
   "execution_count": 4,
   "metadata": {},
   "outputs": [
    {
     "name": "stdout",
     "output_type": "stream",
     "text": [
      "Successfully dumped 108 notes to \"notes.csv\"\n"
     ]
    }
   ],
   "source": [
    "# Dump scraped data to .csv for backup\n",
    "\n",
    "OUT_FILENAME = 'notes.csv'\n",
    "\n",
    "with open(OUT_FILENAME, 'w') as outfile:\n",
    "    outfile.write('Name,Frequency\\n')\n",
    "    for note in notes:\n",
    "        outfile.write('{},{}\\n'.format(note['name'], note['frequency']))\n",
    "\n",
    "print('Successfully dumped {} notes to \\\"{}\\\"'.format(len(notes), OUT_FILENAME))"
   ]
  },
  {
   "cell_type": "code",
   "execution_count": 13,
   "metadata": {},
   "outputs": [
    {
     "name": "stdout",
     "output_type": "stream",
     "text": [
      "Successfully calculated divisors for 86 out of 108 notes\n",
      "    - Smallest frequency difference: -0.0 Hz with A1_#\n",
      "    - Largest frequency difference: -111.0 Hz with E8\n"
     ]
    }
   ],
   "source": [
    "# Calculate register values for notes\n",
    "# The value calculated will be how many full sample buffers are outputted per second\n",
    "\n",
    "SAMPLE_CLOCK_FREQUENCY = 30400000\n",
    "SAMPLE_BUFFER_SIZE = 256\n",
    "\n",
    "# Calculate frequency for a given divider\n",
    "def div_to_freq(div: int):\n",
    "    if not validate_div(div):\n",
    "        raise ValueError('div must be an 11-bit unsigned integer')\n",
    "    \n",
    "    return SAMPLE_CLOCK_FREQUENCY / (SAMPLE_BUFFER_SIZE * (div + 1))\n",
    "\n",
    "def validate_div(div: int):\n",
    "    return not (div < 0 or div >= 2048)\n",
    "\n",
    "# Calculate divider for a given frequency\n",
    "def freq_to_div(freq: float):\n",
    "    if freq <= 0:\n",
    "        raise ValueError('freq must be a non-zero positive number')\n",
    "    \n",
    "    max_freq = div_to_freq(0)\n",
    "    if freq > max_freq:\n",
    "        raise ValueError('freq must be smaller than maximum frequency ({})'.format(max_freq))\n",
    "    \n",
    "    return (SAMPLE_CLOCK_FREQUENCY / (SAMPLE_BUFFER_SIZE * freq)) - 1\n",
    "\n",
    "def find(pred, collection):\n",
    "    return next(i for i in collection if pred(i))\n",
    "\n",
    "divisors = []\n",
    "successful_divs = 0\n",
    "for note in notes:\n",
    "    div = freq_to_div(note['frequency'])\n",
    "    rounded_div = round(div)\n",
    "\n",
    "    if not validate_div(rounded_div):\n",
    "        divisors.append({\n",
    "            'note_name': note['name'],\n",
    "            'desired_frequency': note['frequency'],\n",
    "            'divisor': rounded_div\n",
    "        })\n",
    "    else:\n",
    "        successful_divs += 1\n",
    "        rounded_freq = div_to_freq(rounded_div)\n",
    "        divisors.append({\n",
    "            'note_name': note['name'],\n",
    "            'desired_frequency': note['frequency'],\n",
    "            'actual_frequency': rounded_freq,\n",
    "            'divisor': rounded_div,\n",
    "            'frequency_difference': round(rounded_freq - note['frequency'], 2)\n",
    "        })\n",
    "\n",
    "difference_sorted = divisors.copy()\n",
    "difference_sorted.sort(key=lambda d: abs(d['frequency_difference']) if 'frequency_difference' in d else 0)\n",
    "difference_min = find(lambda d: 'frequency_difference' in d, difference_sorted)\n",
    "difference_max = difference_sorted[-1]\n",
    "\n",
    "print('Successfully calculated divisors for {} out of {} notes'.format(successful_divs, len(notes)))\n",
    "print('    - Smallest frequency difference: {} Hz with {}'.format(round(difference_min['frequency_difference'], 2), difference_min['note_name']))\n",
    "print('    - Largest frequency difference: {} Hz with {}'.format(round(difference_max['frequency_difference'], 2), difference_max['note_name']))"
   ]
  },
  {
   "cell_type": "code",
   "execution_count": 17,
   "metadata": {},
   "outputs": [
    {
     "name": "stdout",
     "output_type": "stream",
     "text": [
      "Successfully dumped 108 divisors to \"divisors.csv\"\n"
     ]
    }
   ],
   "source": [
    "# Dump divisor data into a .csv for easy viewing of data\n",
    "\n",
    "OUT_FILENAME = 'divisors.csv'\n",
    "\n",
    "with open(OUT_FILENAME, 'w') as outfile:\n",
    "    outfile.write('Name,Divisor,Desired frequency,Actual frequency,Frequency difference\\n')\n",
    "    for divisor in divisors:\n",
    "        outfile.write('{},{},{},{},{}\\n'.format(\n",
    "            divisor['note_name'],\n",
    "            divisor['divisor'],\n",
    "            divisor['desired_frequency'],\n",
    "            round(divisor['actual_frequency'], 2) if 'actual_frequency' in divisor else '',\n",
    "            divisor['frequency_difference'] if 'frequency_difference' in divisor else ''\n",
    "        ))\n",
    "        \n",
    "print('Successfully dumped {} divisors to \\\"{}\\\"'.format(len(divisors), OUT_FILENAME))"
   ]
  },
  {
   "cell_type": "code",
   "execution_count": 24,
   "metadata": {},
   "outputs": [
    {
     "name": "stdout",
     "output_type": "stream",
     "text": [
      "Successfully dumped 108 register values to \"registers.csv\"\n"
     ]
    }
   ],
   "source": [
    "# Dump register values to .csv for easy viewing of data\n",
    "\n",
    "OUT_FILENAME = 'registers.csv'\n",
    "\n",
    "def calculate_registers(div: int):\n",
    "    lower = '0x%02X' % (div & 0xFF)\n",
    "    upper = '0x-%X' % ((div >> 8) & 0x07)\n",
    "\n",
    "    return lower, upper\n",
    "\n",
    "with open(OUT_FILENAME, 'w') as outfile:\n",
    "    outfile.write('Name,Divisor,0x00,0x01\\n')\n",
    "    for divisor in divisors:\n",
    "        valid_note = 'actual_frequency' in divisor\n",
    "        lower, upper = calculate_registers(divisor['divisor'])\n",
    "        outfile.write('{},{},{},{}\\n'.format(\n",
    "            divisor['note_name'],\n",
    "            divisor['divisor'],\n",
    "            lower if valid_note else '',\n",
    "            upper if valid_note else ''\n",
    "        ))\n",
    "\n",
    "print('Successfully dumped {} register values to \\\"{}\\\"'.format(len(divisors), OUT_FILENAME))"
   ]
  },
  {
   "cell_type": "code",
   "execution_count": 34,
   "metadata": {},
   "outputs": [
    {
     "name": "stdout",
     "output_type": "stream",
     "text": [
      "Successfully dumped 84 note values to \"notes.z80\"\n"
     ]
    }
   ],
   "source": [
    "# Dump divisor values into a .z80 assembly file to be linked with gameboy source\n",
    "\n",
    "OUT_FILENAME = 'notes.z80'\n",
    "FIRST_NOTE = 'C2'\n",
    "TABLE_LABEL = 'note_table'\n",
    "\n",
    "def index_pred(pred, collection):\n",
    "    for i, e in enumerate(collection):\n",
    "        if pred(e):\n",
    "            return i\n",
    "    return -1\n",
    "\n",
    "valid_divisors = divisors[index_pred(lambda d: d['note_name'] == FIRST_NOTE, divisors):]\n",
    "\n",
    "with open(OUT_FILENAME, 'w') as outfile:\n",
    "    outfile.write('; {}\\n;\\n; Note table\\n;\\n'.format(OUT_FILENAME))\n",
    "    outfile.write('; Info:\\n;    Note count     : {}\\n;    Byte size      : {}\\n;    Starting note  : {}\\n;    End note       : {}\\n;\\n'.format(\n",
    "        len(valid_divisors),\n",
    "        len(valid_divisors) * 2,\n",
    "        FIRST_NOTE,\n",
    "        valid_divisors[-1]['note_name']\n",
    "    ))\n",
    "    outfile.write('; generated by note-table.ipynb\\n\\n')\n",
    "    outfile.write('section \\\"Note table\\\", rom0\\n\\n')\n",
    "    outfile.write('; Start of the note table\\n{}::\\n'.format(TABLE_LABEL))\n",
    "\n",
    "    for divisor in valid_divisors:\n",
    "        outfile.write('dw $%04X    ; %s\\n' % (divisor['divisor'] & 0x07FF, divisor['note_name']))\n",
    "\n",
    "    outfile.write('\\n; End of {}\\n'.format(OUT_FILENAME))\n",
    "\n",
    "print('Successfully dumped {} note values to \\\"{}\\\"'.format(len(valid_divisors), OUT_FILENAME))"
   ]
  }
 ],
 "metadata": {
  "kernelspec": {
   "display_name": "Python 3",
   "language": "python",
   "name": "python3"
  },
  "language_info": {
   "codemirror_mode": {
    "name": "ipython",
    "version": 3
   },
   "file_extension": ".py",
   "mimetype": "text/x-python",
   "name": "python",
   "nbconvert_exporter": "python",
   "pygments_lexer": "ipython3",
   "version": "3.10.11"
  },
  "orig_nbformat": 4
 },
 "nbformat": 4,
 "nbformat_minor": 2
}
