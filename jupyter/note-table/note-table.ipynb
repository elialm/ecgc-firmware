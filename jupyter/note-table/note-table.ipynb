{
 "cells": [
  {
   "cell_type": "code",
   "execution_count": 3,
   "metadata": {},
   "outputs": [
    {
     "name": "stdout",
     "output_type": "stream",
     "text": [
      "Successfully scraped 108 notes from https://pages.mtu.edu/~suits/notefreqs.html\n"
     ]
    }
   ],
   "source": [
    "# Scrape note data from random website\n",
    "\n",
    "import requests\n",
    "import re\n",
    "from bs4 import BeautifulSoup, PageElement\n",
    "\n",
    "WEBSITE_NAME = 'https://pages.mtu.edu/~suits/notefreqs.html'\n",
    "\n",
    "def convert_note_name(element: PageElement):\n",
    "    text = re.sub(r'\\s', '', element.text)\n",
    "    \n",
    "    # Attempt to match single note (eg. C4)\n",
    "    result = re.match(r'^[CDEFGAB][0-8]$', text)\n",
    "    if result:\n",
    "        return text\n",
    "    \n",
    "    # Attempt to match sharp note\n",
    "    result = re.match(r'^([CDEFGAB])#([0-8])', text)\n",
    "    if result:\n",
    "        return '{}{}_#'.format(result.group(1), result.group(2))\n",
    "    \n",
    "    raise ValueError('invalid note name')\n",
    "\n",
    "def convert_note_frequency(element: PageElement):\n",
    "    return float(element.text)\n",
    "\n",
    "def scrape_page(page: BeautifulSoup):\n",
    "    notes = []\n",
    "    for row in soup.select_one('center > center > table ').select('tr'):\n",
    "        children = list(filter(lambda c: c != '\\n', row.contents))\n",
    "        notes.append({\n",
    "            'name': convert_note_name(children[0]),\n",
    "            'frequency': convert_note_frequency(children[1])\n",
    "        })\n",
    "\n",
    "    return notes\n",
    "\n",
    "response = requests.get(WEBSITE_NAME)\n",
    "soup = BeautifulSoup(response.content.decode('utf-8'), 'html.parser')\n",
    "notes = scrape_page(soup)\n",
    "\n",
    "print('Successfully scraped {} notes from {}'.format(len(notes), WEBSITE_NAME))"
   ]
  },
  {
   "cell_type": "code",
   "execution_count": 4,
   "metadata": {},
   "outputs": [
    {
     "name": "stdout",
     "output_type": "stream",
     "text": [
      "Successfully dumped 108 notes to \"notes.csv\"\n"
     ]
    }
   ],
   "source": [
    "# Dump scraped data to .csv for backup\n",
    "\n",
    "OUT_FILENAME = 'notes.csv'\n",
    "\n",
    "with open(OUT_FILENAME, 'w') as outfile:\n",
    "    outfile.write('Name,Frequency\\n')\n",
    "    for note in notes:\n",
    "        outfile.write('{},{}\\n'.format(note['name'], note['frequency']))\n",
    "\n",
    "print('Successfully dumped {} notes to \\\"{}\\\"'.format(len(notes), OUT_FILENAME))"
   ]
  },
  {
   "cell_type": "code",
   "execution_count": 13,
   "metadata": {},
   "outputs": [
    {
     "name": "stdout",
     "output_type": "stream",
     "text": [
      "Successfully calculated divisors for 86 out of 108 notes\n",
      "    - Smallest frequency difference: -0.0 Hz with A1_#\n",
      "    - Largest frequency difference: -111.0 Hz with E8\n"
     ]
    }
   ],
   "source": [
    "# Calculate register values for notes\n",
    "# The value calculated will be how many full sample buffers are outputted per second\n",
    "\n",
    "SAMPLE_CLOCK_FREQUENCY = 30400000\n",
    "SAMPLE_BUFFER_SIZE = 256\n",
    "\n",
    "# Calculate frequency for a given divider\n",
    "def div_to_freq(div: int):\n",
    "    if not validate_div(div):\n",
    "        raise ValueError('div must be an 11-bit unsigned integer')\n",
    "    \n",
    "    return SAMPLE_CLOCK_FREQUENCY / (SAMPLE_BUFFER_SIZE * (div + 1))\n",
    "\n",
    "def validate_div(div: int):\n",
    "    return not (div < 0 or div >= 2048)\n",
    "\n",
    "# Calculate divider for a given frequency\n",
    "def freq_to_div(freq: float):\n",
    "    if freq <= 0:\n",
    "        raise ValueError('freq must be a non-zero positive number')\n",
    "    \n",
    "    max_freq = div_to_freq(0)\n",
    "    if freq > max_freq:\n",
    "        raise ValueError('freq must be smaller than maximum frequency ({})'.format(max_freq))\n",
    "    \n",
    "    return (SAMPLE_CLOCK_FREQUENCY / (SAMPLE_BUFFER_SIZE * freq)) - 1\n",
    "\n",
    "def find(pred, collection):\n",
    "    return next(i for i in collection if pred(i))\n",
    "\n",
    "divisors = []\n",
    "successful_divs = 0\n",
    "for note in notes:\n",
    "    div = freq_to_div(note['frequency'])\n",
    "    rounded_div = round(div)\n",
    "\n",
    "    if not validate_div(rounded_div):\n",
    "        divisors.append({\n",
    "            'note_name': note['name'],\n",
    "            'desired_frequency': note['frequency'],\n",
    "            'divisor': rounded_div\n",
    "        })\n",
    "    else:\n",
    "        successful_divs += 1\n",
    "        rounded_freq = div_to_freq(rounded_div)\n",
    "        divisors.append({\n",
    "            'note_name': note['name'],\n",
    "            'desired_frequency': note['frequency'],\n",
    "            'actual_frequency': rounded_freq,\n",
    "            'divisor': rounded_div,\n",
    "            'frequency_difference': round(rounded_freq - note['frequency'], 2)\n",
    "        })\n",
    "\n",
    "difference_sorted = divisors.copy()\n",
    "difference_sorted.sort(key=lambda d: abs(d['frequency_difference']) if 'frequency_difference' in d else 0)\n",
    "difference_min = find(lambda d: 'frequency_difference' in d, difference_sorted)\n",
    "difference_max = difference_sorted[-1]\n",
    "\n",
    "print('Successfully calculated divisors for {} out of {} notes'.format(successful_divs, len(notes)))\n",
    "print('    - Smallest frequency difference: {} Hz with {}'.format(round(difference_min['frequency_difference'], 2), difference_min['note_name']))\n",
    "print('    - Largest frequency difference: {} Hz with {}'.format(round(difference_max['frequency_difference'], 2), difference_max['note_name']))"
   ]
  },
  {
   "cell_type": "code",
   "execution_count": 17,
   "metadata": {},
   "outputs": [
    {
     "name": "stdout",
     "output_type": "stream",
     "text": [
      "Successfully dumped 108 divisors to \"divisors.csv\"\n"
     ]
    }
   ],
   "source": [
    "# Dump divisor data into a .csv for easy viewing of data\n",
    "\n",
    "OUT_FILENAME = 'divisors.csv'\n",
    "\n",
    "with open(OUT_FILENAME, 'w') as outfile:\n",
    "    outfile.write('Name,Divisor,Desired frequency,Actual frequency,Frequency difference\\n')\n",
    "    for divisor in divisors:\n",
    "        outfile.write('{},{},{},{},{}\\n'.format(\n",
    "            divisor['note_name'],\n",
    "            divisor['divisor'],\n",
    "            divisor['desired_frequency'],\n",
    "            round(divisor['actual_frequency'], 2) if 'actual_frequency' in divisor else '',\n",
    "            divisor['frequency_difference'] if 'frequency_difference' in divisor else ''))\n",
    "        \n",
    "print('Successfully dumped {} divisors to \\\"{}\\\"'.format(len(divisors), OUT_FILENAME))"
   ]
  }
 ],
 "metadata": {
  "kernelspec": {
   "display_name": "Python 3",
   "language": "python",
   "name": "python3"
  },
  "language_info": {
   "codemirror_mode": {
    "name": "ipython",
    "version": 3
   },
   "file_extension": ".py",
   "mimetype": "text/x-python",
   "name": "python",
   "nbconvert_exporter": "python",
   "pygments_lexer": "ipython3",
   "version": "3.10.11"
  },
  "orig_nbformat": 4
 },
 "nbformat": 4,
 "nbformat_minor": 2
}
