{
 "cells": [
  {
   "cell_type": "code",
   "execution_count": 25,
   "metadata": {},
   "outputs": [
    {
     "name": "stdout",
     "output_type": "stream",
     "text": [
      "Successfully scraped 108 notes\n"
     ]
    }
   ],
   "source": [
    "import requests\n",
    "import re\n",
    "from bs4 import BeautifulSoup, PageElement\n",
    "\n",
    "def convert_note_name(element: PageElement):\n",
    "    text = re.sub(r'\\s', '', element.text)\n",
    "    \n",
    "    # Attempt to match single note (eg. C4)\n",
    "    result = re.match(r'^[CDEFGAB][0-8]$', text)\n",
    "    if result:\n",
    "        return text\n",
    "    \n",
    "    # Attempt to match sharp note\n",
    "    result = re.match(r'^([CDEFGAB])#([0-8])', text)\n",
    "    if result:\n",
    "        return '{}{}_#'.format(result.group(1), result.group(2))\n",
    "    \n",
    "    raise ValueError('invalid note name')\n",
    "\n",
    "def convert_note_frequency(element: PageElement):\n",
    "    return float(element.text)\n",
    "\n",
    "response = requests.get('https://pages.mtu.edu/~suits/notefreqs.html')\n",
    "soup = BeautifulSoup(response.content.decode('utf-8'), 'html.parser')\n",
    "\n",
    "notes = []\n",
    "for row in soup.select_one('center > center > table ').select('tr'):\n",
    "    children = list(filter(lambda c: c != '\\n', row.contents))\n",
    "    notes.append({\n",
    "        'name': convert_note_name(children[0]),\n",
    "        'frequency': convert_note_frequency(children[1])\n",
    "    })\n",
    "\n",
    "print('Successfully scraped {} notes'.format(len(notes)))"
   ]
  }
 ],
 "metadata": {
  "kernelspec": {
   "display_name": "Python 3",
   "language": "python",
   "name": "python3"
  },
  "language_info": {
   "codemirror_mode": {
    "name": "ipython",
    "version": 3
   },
   "file_extension": ".py",
   "mimetype": "text/x-python",
   "name": "python",
   "nbconvert_exporter": "python",
   "pygments_lexer": "ipython3",
   "version": "3.10.11"
  },
  "orig_nbformat": 4
 },
 "nbformat": 4,
 "nbformat_minor": 2
}
